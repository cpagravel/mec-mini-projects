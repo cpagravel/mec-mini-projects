{
 "cells": [
  {
   "cell_type": "markdown",
   "metadata": {},
   "source": [
    "This exercise will require you to pull some data from https://data.nasdaq.com/ (formerly Quandl API)."
   ]
  },
  {
   "cell_type": "markdown",
   "metadata": {},
   "source": [
    "As a first step, you will need to register a free account on the https://data.nasdaq.com/ website."
   ]
  },
  {
   "cell_type": "markdown",
   "metadata": {},
   "source": [
    "After you register, you will be provided with a unique API key, that you should store:\n",
    "\n",
    "*Note*: Use a `.env` file and put your key in there and `python-dotenv` to access it in this notebook. \n",
    "\n",
    "The code below uses a key that was used when generating this project but has since been deleted. Never submit your keys to source control. There is a `.env-example` file in this repository to illusrtate what you need. Copy that to a file called `.env` and use your own api key in that `.env` file. Make sure you also have a `.gitignore` file with a line for `.env` added to it. \n",
    "\n",
    "The standard Python gitignore is [here](https://github.com/github/gitignore/blob/master/Python.gitignore) you can just copy that. "
   ]
  },
  {
   "cell_type": "code",
   "execution_count": 1,
   "metadata": {},
   "outputs": [],
   "source": [
    "# get api key from your .env file\n",
    "import os\n",
    "from dotenv import load_dotenv  # if missing this module, simply run `pip install python-dotenv`\n",
    "\n",
    "load_dotenv()\n",
    "API_KEY = os.getenv('NASDAQ_API_KEY')\n",
    "\n",
    "# print(API_KEY)"
   ]
  },
  {
   "cell_type": "markdown",
   "metadata": {},
   "source": [
    "Nasdaq Data has a large number of data sources, but, unfortunately, most of them require a Premium subscription. Still, there are also a good number of free datasets."
   ]
  },
  {
   "cell_type": "markdown",
   "metadata": {},
   "source": [
    "For this mini project, we will focus on equities data from the Frankfurt Stock Exhange (FSE), which is available for free. We'll try and analyze the stock prices of a company called Carl Zeiss Meditec, which manufactures tools for eye examinations, as well as medical lasers for laser eye surgery: https://www.zeiss.com/meditec/int/home.html. The company is listed under the stock ticker AFX_X."
   ]
  },
  {
   "cell_type": "markdown",
   "metadata": {},
   "source": [
    "You can find the detailed Nasdaq Data API instructions here: https://docs.data.nasdaq.com/docs/in-depth-usage"
   ]
  },
  {
   "cell_type": "markdown",
   "metadata": {},
   "source": [
    "While there is a dedicated Python package for connecting to the Nasdaq API, we would prefer that you use the *requests* package, which can be easily downloaded using *pip* or *conda*. You can find the documentation for the package here: http://docs.python-requests.org/en/master/ "
   ]
  },
  {
   "cell_type": "markdown",
   "metadata": {},
   "source": [
    "Finally, apart from the *requests* package, you are encouraged to not use any third party Python packages, such as *pandas*, and instead focus on what's available in the Python Standard Library (the *collections* module might come in handy: https://pymotw.com/3/collections/).\n",
    "Also, since you won't have access to DataFrames, you are encouraged to us Python's native data structures - preferably dictionaries, though some questions can also be answered using lists.\n",
    "You can read more on these data structures here: https://docs.python.org/3/tutorial/datastructures.html"
   ]
  },
  {
   "cell_type": "markdown",
   "metadata": {},
   "source": [
    "Keep in mind that the JSON responses you will be getting from the API map almost one-to-one to Python's dictionaries. Unfortunately, they can be very nested, so make sure you read up on indexing dictionaries in the documentation provided above."
   ]
  },
  {
   "cell_type": "code",
   "execution_count": 2,
   "metadata": {},
   "outputs": [],
   "source": [
    "# First, import the relevant modules\n",
    "import requests"
   ]
  },
  {
   "cell_type": "markdown",
   "metadata": {},
   "source": [
    "Note: API's can change a bit with each version, for this exercise it is reccomended to use the nasdaq api at `https://data.nasdaq.com/api/v3/`. This is the same api as what used to be quandl so `https://www.quandl.com/api/v3/` should work too.\n",
    "\n",
    "Hint: We are looking for the `AFX_X` data on the `datasets/FSE/` dataset."
   ]
  },
  {
   "cell_type": "code",
   "execution_count": 3,
   "metadata": {},
   "outputs": [
    {
     "name": "stdout",
     "output_type": "stream",
     "text": [
      "https://data.nasdaq.com/api/v3/datasets/FSE/AFX_X/data.json\n",
      "Success\n"
     ]
    }
   ],
   "source": [
    "# Now, call the Nasdaq API and pull out a small sample of the data (only one day) to get a glimpse\n",
    "# into the JSON structure that will be returned\n",
    "def create_url(database_code: str, dataset_code: str, return_format: str):\n",
    "    url = \"https://data.nasdaq.com/api/v3/datasets/{database_code}/{dataset_code}/data.{return_format}\"\n",
    "\n",
    "    return url.format(\n",
    "        database_code=database_code, dataset_code=dataset_code, return_format=return_format)\n",
    "\n",
    "database_code = \"FSE\"\n",
    "dataset_code = \"AFX_X\"\n",
    "return_format = \"json\"\n",
    "\n",
    "req_url = create_url(\n",
    "    database_code=database_code, dataset_code=dataset_code, return_format=return_format)\n",
    "\n",
    "print(req_url)\n",
    "r = requests.get(req_url, params={\"api_key\": API_KEY})\n",
    "# print(r.url)\n",
    "\n",
    "if r.status_code == 200:\n",
    "    print(\"Success\")\n",
    "    content = r.json()\n",
    "else:\n",
    "    print(\"Failed\")\n",
    "    raise RuntimeError(\n",
    "        \"Something went wrong\\n\"\n",
    "        f\"Status code: {r.status_code}\\n\" + r.content.decode())\n"
   ]
  },
  {
   "cell_type": "code",
   "execution_count": 4,
   "metadata": {},
   "outputs": [
    {
     "name": "stdout",
     "output_type": "stream",
     "text": [
      "dict_keys(['limit', 'transform', 'column_index', 'column_names', 'start_date', 'end_date', 'frequency', 'data', 'collapse', 'order'])\n",
      "['Date', 'Open', 'High', 'Low', 'Close', 'Change', 'Traded Volume', 'Turnover', 'Last Price of the Day', 'Daily Traded Units', 'Daily Turnover']\n",
      "0: Date\n",
      "1: Open\n",
      "2: High\n",
      "3: Low\n",
      "4: Close\n",
      "5: Change\n",
      "6: Traded Volume\n",
      "7: Turnover\n",
      "8: Last Price of the Day\n",
      "9: Daily Traded Units\n",
      "10: Daily Turnover\n"
     ]
    }
   ],
   "source": [
    "# Inspect the JSON structure of the object you created, and take note of how nested it is,\n",
    "# as well as the overall structure\n",
    "print(content[\"dataset_data\"].keys())\n",
    "print(content[\"dataset_data\"][\"column_names\"])\n",
    "\n",
    "# For reference\n",
    "for index, name in enumerate(content[\"dataset_data\"][\"column_names\"]):\n",
    "    print(f\"{index}: {name}\")"
   ]
  },
  {
   "cell_type": "markdown",
   "metadata": {},
   "source": [
    "These are your tasks for this mini project:\n",
    "\n",
    "1. Collect data from the Franfurt Stock Exchange, for the ticker AFX_X, for the whole year 2017 (keep in mind that the date format is YYYY-MM-DD).\n",
    "2. Convert the returned JSON object into a Python dictionary.\n",
    "3. Calculate what the highest and lowest opening prices were for the stock in this period.\n",
    "4. What was the largest change in any one day (based on High and Low price)?\n",
    "5. What was the largest change between any two days (based on Closing Price)?\n",
    "6. What was the average daily trading volume during this year?\n",
    "7. (Optional) What was the median trading volume during this year. (Note: you may need to implement your own function for calculating the median.)"
   ]
  },
  {
   "cell_type": "code",
   "execution_count": 5,
   "metadata": {},
   "outputs": [],
   "source": [
    "# 1 Collect data\n",
    "database_code = \"FSE\"\n",
    "dataset_code = \"AFX_X\"\n",
    "return_format = \"json\"\n",
    "\n",
    "create_url(database_code, dataset_code, return_format)\n",
    "\n",
    "params = {\n",
    "    \"api_key\": API_KEY,\n",
    "    \"start_date\": \"2017-01-01\",\n",
    "    \"end_date\": \"2018-01-01\"\n",
    "}\n",
    "\n",
    "r = requests.get(req_url, params=params)\n",
    "\n",
    "# 2 convert to dictionary\n",
    "response = r.json()"
   ]
  },
  {
   "cell_type": "code",
   "execution_count": 76,
   "metadata": {},
   "outputs": [
    {
     "name": "stdout",
     "output_type": "stream",
     "text": [
      "3.\n",
      "Highest is 53.54\n",
      "Lowest is 33.62\n",
      "4.\n",
      "Largest delta in a day is: 2.8100000000000023\n",
      "5.\n",
      "Largest change between two consecutive days is: -2.559999999999995\n",
      "6.\n",
      "Average daily trading volume for 2017 is: 89124.33725490196\n",
      "7.\n",
      "Median value is: 76286.0\n"
     ]
    }
   ],
   "source": [
    "# 3 Calculate highest and lowest\n",
    "cols = response[\"dataset_data\"][\"column_names\"]\n",
    "data = response[\"dataset_data\"][\"data\"]\n",
    "\n",
    "highs = [x[2] for x in data]\n",
    "lows = [x[3] for x in data]\n",
    "\n",
    "highest = max(highs)\n",
    "lowest = min(lows)\n",
    "print(f\"3.\\nHighest is {highest}\\nLowest is {lowest}\")\n",
    "\n",
    "\n",
    "# 4 Largest change in a day\n",
    "deltas = [high - low for high, low in zip(highs, lows)]\n",
    "print(f\"4.\\nLargest delta in a day is: {max(deltas)}\")\n",
    "\n",
    "\n",
    "# 5 Largest change between two days based on closing price\n",
    "closing = [x[4] for x in data]\n",
    "# Consider positive and negative deltas\n",
    "import heapq\n",
    "delta_closing = []\n",
    "for day_ahead, day_behind in zip(closing[:-1], closing[1:]):\n",
    "    heapq.heappush(delta_closing, (abs(day_ahead - day_behind), day_ahead - day_behind))\n",
    "largest_delta = heapq.nlargest(1, delta_closing)\n",
    "print(f\"5.\\nLargest change between two consecutive days is: {largest_delta[0][1]}\")\n",
    "\n",
    "\n",
    "# 6 Avg daily trading volume for the year\n",
    "volumes = [x[6] for x in data]\n",
    "avg_volume = sum(volumes)/len(volumes)\n",
    "print(f\"6.\\nAverage daily trading volume for 2017 is: {avg_volume}\")\n",
    "\n",
    "\n",
    "# 7 Median trading volume\n",
    "sorted_volumes = sorted(volumes)\n",
    "print(f\"7.\\nMedian value is: {sorted_volumes[len(sorted_volumes)//2]}\")\n"
   ]
  }
 ],
 "metadata": {
  "interpreter": {
   "hash": "4885f37acae9217c235118400878352aafa7b76e66df698a1f601374f86939a7"
  },
  "kernelspec": {
   "display_name": "Python 3.7.9 64-bit ('springboard': conda)",
   "name": "python3"
  },
  "language_info": {
   "codemirror_mode": {
    "name": "ipython",
    "version": 3
   },
   "file_extension": ".py",
   "mimetype": "text/x-python",
   "name": "python",
   "nbconvert_exporter": "python",
   "pygments_lexer": "ipython3",
   "version": "3.8.8"
  }
 },
 "nbformat": 4,
 "nbformat_minor": 4
}
